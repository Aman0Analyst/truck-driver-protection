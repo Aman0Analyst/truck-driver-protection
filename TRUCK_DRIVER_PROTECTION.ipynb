{
  "nbformat": 4,
  "nbformat_minor": 0,
  "metadata": {
    "colab": {
      "name": "TRUCK_DRIVER_PROTECTION.ipynb",
      "provenance": [],
      "collapsed_sections": [],
      "toc_visible": true
    },
    "kernelspec": {
      "name": "python3",
      "display_name": "Python 3.9.5 64-bit ('truckProject': conda)"
    },
    "interpreter": {
      "hash": "a45cffeadb211bcc98c8582dd47f36b9855a699a6916291df0e160fe8a85f9eb"
    }
  },
  "cells": [
    {
      "cell_type": "code",
      "metadata": {
        "id": "YDw-N1k8A3u7"
      },
      "source": [
        "from IPython.display import clear_output\n",
        "from scipy.spatial import distance as dist\n",
        "from imutils.video import FileVideoStream\n",
        "from imutils.video import VideoStream\n",
        "from imutils import face_utils\n",
        "import numpy as np\n",
        "import imutils\n",
        "import time\n",
        "import dlib\n",
        "import cv2\n",
        "import youtube_dl\n",
        "import pandas as pd\n",
        "import time"
      ],
      "execution_count": 1,
      "outputs": []
    },
    {
      "cell_type": "code",
      "metadata": {
        "colab": {
          "base_uri": "https://localhost:8080/",
          "height": 34
        },
        "id": "CJ75fVO1khxV",
        "outputId": "cc732243-48db-4d5d-f2cf-7131297b3102"
      },
      "source": [
        "pwd"
      ],
      "execution_count": 2,
      "outputs": [
        {
          "output_type": "execute_result",
          "data": {
            "text/plain": [
              "'/media/aman/3E7E88FE7E88B067/Aman/Projects/Truck Driver/truck-driver-protection'"
            ]
          },
          "metadata": {},
          "execution_count": 2
        }
      ]
    },
    {
      "cell_type": "code",
      "metadata": {
        "colab": {
          "base_uri": "https://localhost:8080/"
        },
        "id": "Ubcoc-57lEha",
        "outputId": "36f138ba-0e7d-443b-a51e-f5ecdcc55b1a"
      },
      "source": [
        "import VideoProcess\n",
        "link_list = {\n",
        "            # '10_1':'https://youtu.be/VBPjwgcG-ko'\n",
        "            #  '5_1':'https://youtu.be/10WkH0kfg00',\n",
        "            #  '0_1':'https://youtu.be/YJfxDci5HcQ',\n",
        "            #  '10_2' : 'https://youtu.be/ENnhzCzFw4k',\n",
        "            #  '5_2' : 'https://youtu.be/REs5xrW6YwA',\n",
        "            #  '0_2' : 'https://youtu.be/eLW4tJEO-_k'\n",
        "            \"home_sleep_aman\" : \"https://youtu.be/S9kmqCw49_E\"\n",
        "            }\n",
        "\n",
        "data = {}\n",
        "\n",
        "for i,j in link_list.items():\n",
        "    data[i] = VideoProcess.ProcessVideoForEyes(video_link= j,\n",
        "                                               model_path = \"shape_predictor_68_face_landmarks.dat\",\n",
        "                                               collect_data = True)"
      ],
      "execution_count": 3,
      "outputs": [
        {
          "output_type": "stream",
          "name": "stdout",
          "text": [
            " PROCESSING THE VIDEO NOW ...\n",
            " PLEASE WAIT.....\n",
            "video is available and named as \"processed_video.avi\" \n"
          ]
        }
      ]
    },
    {
      "cell_type": "code",
      "metadata": {
        "colab": {
          "base_uri": "https://localhost:8080/"
        },
        "id": "sA7seuhmBTg4",
        "outputId": "d01e3e76-bc2a-4788-e383-5641668aee6f"
      },
      "source": [
        "data"
      ],
      "execution_count": null,
      "outputs": [
        {
          "output_type": "execute_result",
          "data": {
            "text/plain": [
              "{'10_1': Empty DataFrame\n",
              " Columns: []\n",
              " Index: []}"
            ]
          },
          "metadata": {
            "tags": []
          },
          "execution_count": 7
        }
      ]
    },
    {
      "cell_type": "code",
      "metadata": {
        "id": "jjMriGNJEUNb"
      },
      "source": [
        "for i in data.keys():\n",
        "    data[i].to_excel(str(i)+'.xlsx',index = False)\n",
        "    data[i].to_csv(str(i)+'.csv',index = False)"
      ],
      "execution_count": null,
      "outputs": []
    },
    {
      "cell_type": "code",
      "metadata": {
        "id": "KZpIJl2hnMbr"
      },
      "source": [
        "from google.colab import files"
      ],
      "execution_count": null,
      "outputs": []
    },
    {
      "cell_type": "code",
      "metadata": {
        "colab": {
          "base_uri": "https://localhost:8080/",
          "height": 34
        },
        "id": "xGx2Z5U6ruPu",
        "outputId": "0f3f9c16-ebb7-40af-cfb0-a61e82da9399"
      },
      "source": [
        "files.download('/content/processed_video.avi')"
      ],
      "execution_count": null,
      "outputs": [
        {
          "output_type": "display_data",
          "data": {
            "application/javascript": [
              "\n",
              "    async function download(id, filename, size) {\n",
              "      if (!google.colab.kernel.accessAllowed) {\n",
              "        return;\n",
              "      }\n",
              "      const div = document.createElement('div');\n",
              "      const label = document.createElement('label');\n",
              "      label.textContent = `Downloading \"${filename}\": `;\n",
              "      div.appendChild(label);\n",
              "      const progress = document.createElement('progress');\n",
              "      progress.max = size;\n",
              "      div.appendChild(progress);\n",
              "      document.body.appendChild(div);\n",
              "\n",
              "      const buffers = [];\n",
              "      let downloaded = 0;\n",
              "\n",
              "      const channel = await google.colab.kernel.comms.open(id);\n",
              "      // Send a message to notify the kernel that we're ready.\n",
              "      channel.send({})\n",
              "\n",
              "      for await (const message of channel.messages) {\n",
              "        // Send a message to notify the kernel that we're ready.\n",
              "        channel.send({})\n",
              "        if (message.buffers) {\n",
              "          for (const buffer of message.buffers) {\n",
              "            buffers.push(buffer);\n",
              "            downloaded += buffer.byteLength;\n",
              "            progress.value = downloaded;\n",
              "          }\n",
              "        }\n",
              "      }\n",
              "      const blob = new Blob(buffers, {type: 'application/binary'});\n",
              "      const a = document.createElement('a');\n",
              "      a.href = window.URL.createObjectURL(blob);\n",
              "      a.download = filename;\n",
              "      div.appendChild(a);\n",
              "      a.click();\n",
              "      div.remove();\n",
              "    }\n",
              "  "
            ],
            "text/plain": [
              "<IPython.core.display.Javascript object>"
            ]
          },
          "metadata": {
            "tags": []
          }
        },
        {
          "output_type": "display_data",
          "data": {
            "application/javascript": [
              "download(\"download_71fbe37c-d124-43bc-acbe-b5715dfd0084\", \"processed_video.avi\", 1341160246)"
            ],
            "text/plain": [
              "<IPython.core.display.Javascript object>"
            ]
          },
          "metadata": {
            "tags": []
          }
        }
      ]
    },
    {
      "cell_type": "code",
      "metadata": {
        "id": "Cx9Gd4Ahr0Zf"
      },
      "source": [],
      "execution_count": null,
      "outputs": []
    }
  ]
}